
{
  "nbformat": 4,
  "nbformat_minor": 0,
  "metadata": {
    "colab": {
      "provenance": []
    },
    "kernelspec": {
      "name": "python3",
      "display_name": "Python 3"
    },
    "language_info": {
      "name": "python"
    }
  },
  "cells": [
    {
      "cell_type": "code",
      "execution_count": null,
      "metadata": {
        "id": "hYUzMUQkTAAr"
      },
      "outputs": [],
      "source": [
        "## i) Write the frame as JPG file\n",
        "import cv2\n",
        "import matplotlib.pyplot as plt",
        "from IPython.display import clear_output",
        "import time",
        "cap = cv2.VideoCapture(0)",
        "ret, frame = cap.read()",
        "if ret:",
            "cv2.imwrite("captured_frame.jpg", frame)",
        "cap.release()",
        "captured_image = cv2.imread('captured_frame.jpg')",
        "plt.imshow(captured_image[:,:,::-1])",
        "plt.title('Captured Frame')",
        "plt.axis('off')",
        "plt.show()",
      ],
    },
    {
      "cell_type": "code",
      "source": [
        "\n",
        "## ii) Display the video\n",
        "import cv2\n",
        "videoCaptureObject = cv2.VideoCapture(0)\n",
        "cap = cv2.VideoCapture(0)",

        "for i in range(50):",
            "ret, frame = cap.read()",
            "if not ret:",
                "break",
            "frame_rgb = cv2.cvtColor(frame, cv2.COLOR_BGR2RGB)",
            "clear_output(wait=True)",
            "plt.imshow(frame_rgb)",
            "plt.axis('off')",
            "plt.show()",
            "time.sleep(0.05)",

            "cap.release()",
      ],
      "metadata": {
        "id": "wj6mW4yyTKFm"
      },
      "execution_count": null,
      "outputs": []
    },
    {
      "cell_type": "code",
      "source": [
        "## iii) Display the video by resizing the window\n",
        "import cv2\n",
        "import numpy as np\n",
        "cap = cv2.VideoCapture(0)\n",
        "while True:\n",
       "cap = cv2.VideoCapture(0)",

      "for i in range(50):",
          "ret, frame = cap.read()",
          "if not ret:",
              "break",
          "resized_frame = cv2.resize(frame, (100, 150))  # Resize to 320x240",
          "frame_rgb = cv2.cvtColor(resized_frame, cv2.COLOR_BGR2RGB)",
          "clear_output(wait=True)",
          "plt.imshow(frame_rgb)",
          "plt.axis('off')",
          "plt.show()",
          "time.sleep(0.05)",
      
      "cap.release()",
      ],
      "metadata": {
        "id": "Y12_al9uTMGw"
      },
      "execution_count": null,
      "outputs": []
    },
    {
      "cell_type": "code",
      "source": [
        "## iv) Rotate and display the video\n",
        "import cv2\n",
        "import numpy as np\n",
        "cap = cv2.VideoCapture(0)\n",
        "while True:\n",
        "    ret, frame = cap.read()\n",
        "    width = int(cap.get(3))\n",
        "    height = int(cap.get(4))\n",
        "cap = cv2.VideoCapture(0)",

        "for i in range(50):",
            "ret, frame = cap.read()",
            "if not ret:",
                "break",
            "rotated_frame = cv2.rotate(frame, cv2.ROTATE_90_CLOCKWISE)",
            "frame_rgb = cv2.cvtColor(rotated_frame, cv2.COLOR_BGR2RGB)",
            "clear_output(wait=True)",
            "plt.imshow(frame_rgb)",
            "plt.axis('off')",
            "plt.show()",
            "time.sleep(0.05)",
        
        "cap.release()",
      ],
      "metadata": {
        "id": "Cb1O23bdTOVM"
      },
      "execution_count": null,
      "outputs": []
    }
  ]
}
